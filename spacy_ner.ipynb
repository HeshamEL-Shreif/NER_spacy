{
  "cells": [
    {
      "cell_type": "markdown",
      "metadata": {
        "id": "view-in-github",
        "colab_type": "text"
      },
      "source": [
        "<a href=\"https://colab.research.google.com/github/HeshamEL-Shreif/NER_spacy/blob/main/task2.ipynb\" target=\"_parent\"><img src=\"https://colab.research.google.com/assets/colab-badge.svg\" alt=\"Open In Colab\"/></a>"
      ]
    },
    {
      "cell_type": "code",
      "source": [
        "!pip install datasets"
      ],
      "metadata": {
        "id": "SG1_qCtz6ybv"
      },
      "id": "SG1_qCtz6ybv",
      "execution_count": null,
      "outputs": []
    },
    {
      "cell_type": "code",
      "execution_count": null,
      "id": "dfcbd1fe",
      "metadata": {
        "id": "dfcbd1fe"
      },
      "outputs": [],
      "source": [
        "import spacy\n",
        "from spacy.tokens import DocBin\n",
        "from datasets import load_dataset\n",
        "import transformers"
      ]
    },
    {
      "cell_type": "code",
      "execution_count": null,
      "id": "517a3436",
      "metadata": {
        "id": "517a3436"
      },
      "outputs": [],
      "source": [
        "dataset = load_dataset(\"conll2003\")\n",
        "nlp = spacy.blank(\"en\")\n",
        "doc_bin = DocBin()"
      ]
    },
    {
      "cell_type": "code",
      "execution_count": null,
      "id": "9757f6d7",
      "metadata": {
        "id": "9757f6d7"
      },
      "outputs": [],
      "source": [
        "dataset"
      ]
    },
    {
      "cell_type": "code",
      "execution_count": null,
      "id": "a72cff0d",
      "metadata": {
        "id": "a72cff0d"
      },
      "outputs": [],
      "source": [
        "train_examples = dataset[\"train\"]['tokens']\n",
        "train_tags = dataset[\"train\"]['ner_tags']"
      ]
    },
    {
      "cell_type": "code",
      "execution_count": null,
      "id": "df69032b",
      "metadata": {
        "id": "df69032b"
      },
      "outputs": [],
      "source": [
        "print(train_examples[0])\n",
        "print(train_tags[0])"
      ]
    },
    {
      "cell_type": "code",
      "execution_count": null,
      "id": "2389ea18",
      "metadata": {
        "id": "2389ea18"
      },
      "outputs": [],
      "source": [
        "labels = dataset[\"train\"].features[\"ner_tags\"].feature.names"
      ]
    },
    {
      "cell_type": "code",
      "execution_count": null,
      "id": "ce87ac5a",
      "metadata": {
        "id": "ce87ac5a"
      },
      "outputs": [],
      "source": [
        "for tokens, ner_tags in zip(dataset[\"train\"][\"tokens\"], dataset[\"train\"][\"ner_tags\"]):\n",
        "    doc = nlp.make_doc(\" \".join(tokens))\n",
        "    ents = []\n",
        "    start = 0\n",
        "    for i, (word, tag_id) in enumerate(zip(tokens, ner_tags)):\n",
        "        tag = labels[tag_id]\n",
        "        if tag == \"O\":\n",
        "            start += len(word) + 1\n",
        "            continue\n",
        "        if tag.startswith(\"B-\"):\n",
        "            ent_start = start\n",
        "            ent_end = start + len(word)\n",
        "            ent_label = tag[2:]\n",
        "\n",
        "            for j in range(i+1, len(tokens)):\n",
        "                next_tag = labels[ner_tags[j]]\n",
        "                if next_tag == f\"I-{ent_label}\":\n",
        "                    ent_end += len(tokens[j]) + 1\n",
        "                else:\n",
        "                    break\n",
        "            ents.append((ent_start, ent_end - 1, ent_label))\n",
        "        start += len(word) + 1\n",
        "\n",
        "    doc.ents = [doc.char_span(start, end + 1, label=label) for start, end, label in ents if doc.char_span(start, end + 1, label=label)]\n",
        "    doc_bin.add(doc)\n",
        "\n",
        "doc_bin.to_disk(\"train.spacy\")"
      ]
    },
    {
      "cell_type": "code",
      "execution_count": null,
      "id": "0ca2d92b",
      "metadata": {
        "id": "0ca2d92b"
      },
      "outputs": [],
      "source": [
        "for tokens, ner_tags in zip(dataset[\"validation\"][\"tokens\"], dataset[\"validation\"][\"ner_tags\"]):\n",
        "    doc = nlp.make_doc(\" \".join(tokens))\n",
        "    ents = []\n",
        "    start = 0\n",
        "    for i, (word, tag_id) in enumerate(zip(tokens, ner_tags)):\n",
        "        tag = labels[tag_id]\n",
        "        if tag == \"O\":\n",
        "            start += len(word) + 1\n",
        "            continue\n",
        "        if tag.startswith(\"B-\"):\n",
        "            ent_start = start\n",
        "            ent_end = start + len(word)\n",
        "            ent_label = tag[2:]\n",
        "\n",
        "            for j in range(i+1, len(tokens)):\n",
        "                next_tag = labels[ner_tags[j]]\n",
        "                if next_tag == f\"I-{ent_label}\":\n",
        "                    ent_end += len(tokens[j]) + 1\n",
        "                else:\n",
        "                    break\n",
        "            ents.append((ent_start, ent_end - 1, ent_label))\n",
        "        start += len(word) + 1\n",
        "\n",
        "    doc.ents = [doc.char_span(start, end + 1, label=label) for start, end, label in ents if doc.char_span(start, end + 1, label=label)]\n",
        "    doc_bin.add(doc)\n",
        "\n",
        "doc_bin.to_disk(\"dev.spacy\")"
      ]
    },
    {
      "cell_type": "code",
      "execution_count": null,
      "id": "21bd25ff",
      "metadata": {
        "id": "21bd25ff"
      },
      "outputs": [],
      "source": [
        "!python -m spacy init config config.cfg --lang en --pipeline ner"
      ]
    },
    {
      "cell_type": "code",
      "execution_count": null,
      "id": "00c673de",
      "metadata": {
        "id": "00c673de"
      },
      "outputs": [],
      "source": [
        "!python -m spacy train config.cfg --output ./output --paths.train ./train.spacy --paths.dev ./dev.spacy --training.max_epochs 10 --gpu-id 0"
      ]
    },
    {
      "cell_type": "code",
      "source": [
        "for tokens, ner_tags in zip(dataset[\"test\"][\"tokens\"], dataset[\"test\"][\"ner_tags\"]):\n",
        "    doc = nlp.make_doc(\" \".join(tokens))\n",
        "    ents = []\n",
        "    start = 0\n",
        "    for i, (word, tag_id) in enumerate(zip(tokens, ner_tags)):\n",
        "        tag = labels[tag_id]\n",
        "        if tag == \"O\":\n",
        "            start += len(word) + 1\n",
        "            continue\n",
        "        if tag.startswith(\"B-\"):\n",
        "            ent_start = start\n",
        "            ent_end = start + len(word)\n",
        "            ent_label = tag[2:]\n",
        "\n",
        "            for j in range(i+1, len(tokens)):\n",
        "                next_tag = labels[ner_tags[j]]\n",
        "                if next_tag == f\"I-{ent_label}\":\n",
        "                    ent_end += len(tokens[j]) + 1\n",
        "                else:\n",
        "                    break\n",
        "            ents.append((ent_start, ent_end - 1, ent_label))\n",
        "        start += len(word) + 1\n",
        "\n",
        "    doc.ents = [doc.char_span(start, end + 1, label=label) for start, end, label in ents if doc.char_span(start, end + 1, label=label)]\n",
        "    doc_bin.add(doc)\n",
        "\n",
        "doc_bin.to_disk(\"test.spacy\")"
      ],
      "metadata": {
        "id": "cDVGSQON7Qtw"
      },
      "id": "cDVGSQON7Qtw",
      "execution_count": null,
      "outputs": []
    },
    {
      "cell_type": "code",
      "execution_count": null,
      "id": "57c422ae",
      "metadata": {
        "id": "57c422ae"
      },
      "outputs": [],
      "source": [
        "!python -m spacy evaluate output/model-best ./test.spacy --output metrics.json"
      ]
    }
  ],
  "metadata": {
    "kernelspec": {
      "display_name": "Python 3",
      "name": "python3"
    },
    "language_info": {
      "codemirror_mode": {
        "name": "ipython",
        "version": 3
      },
      "file_extension": ".py",
      "mimetype": "text/x-python",
      "name": "python",
      "nbconvert_exporter": "python",
      "pygments_lexer": "ipython3",
      "version": "3.11.4"
    },
    "colab": {
      "private_outputs": true,
      "provenance": [],
      "gpuType": "T4",
      "include_colab_link": true
    },
    "accelerator": "GPU"
  },
  "nbformat": 4,
  "nbformat_minor": 5
}